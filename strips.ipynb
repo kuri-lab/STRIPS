{
 "cells": [
  {
   "cell_type": "code",
   "execution_count": null,
   "metadata": {},
   "outputs": [],
   "source": []
  },
  {
   "cell_type": "code",
   "execution_count": 79,
   "metadata": {},
   "outputs": [],
   "source": [
    "class Module:\n",
    "    def __init__(self, name, c_list=[], a_list=[], d_list=[], group=\"action\"):\n",
    "        self.name = name #str型\n",
    "        self.c_list = c_list #リスト型\n",
    "        self.a_list = a_list #リスト型\n",
    "        self.d_list = d_list #リスト型\n",
    "        self.level = 0 #int型\n",
    "        self.group = group\n",
    "        \n",
    "    def act(self):\n",
    "            print(\"activated \" + self.name + \"!\")\n",
    "            #sys.stdout.write(self.name)\n",
    "            activate = True\n",
    "            return activate\n"
   ]
  },
  {
   "cell_type": "code",
   "execution_count": 277,
   "metadata": {},
   "outputs": [],
   "source": [
    "import copy\n",
    "class STRIPS:\n",
    "    def __init__(self, current_state, did_list):\n",
    "        self.goal_state = set([\"clear_B\", \"B_on_A\", \"on_table_A\",\"clear_C\", \"on_table_C\",\"arm_empty\"])\n",
    "        self.current_state = current_state\n",
    "        self.did_list = did_list\n",
    "        self.now_level = 0\n",
    "        self.pick_up_A = Module(\"pick_up_A\", c_list=[\"clear_A\", \"on_table_A\",\"arm_empty\"], a_list=[\"holding_A\"], d_list=[\"on_table_A\",\"arm_empty\"], group=\"action\")\n",
    "        self.pick_up_B = Module(\"pick_up_B\", c_list=[\"clear_B\", \"on_table_B\",\"arm_empty\"], a_list=[\"holding_B\"], d_list=[\"on_table_B\",\"arm_empty\"], group=\"action\")\n",
    "        self.pick_up_C = Module(\"pick_up_C\", c_list=[\"clear_C\", \"on_table_C\",\"arm_empty\"], a_list=[\"holding_C\"], d_list=[\"on_table_C\",\"arm_empty\"], group=\"action\")\n",
    "        self.stack_A_on_B = Module(\"stack_A_on_B\", c_list=[\"clear_B\", \"holding_A\"], a_list=[\"arm_empty\", \"A_on_B\"], d_list=[\"holding_A\",\"clear_B\"], group=\"action\")\n",
    "        self.stack_A_on_C = Module(\"stack_A_on_C\", c_list=[\"clear_C\", \"holding_A\"], a_list=[\"arm_empty\", \"A_on_C\"], d_list=[\"holding_A\",\"clear_C\"], group=\"action\")\n",
    "        self.stack_B_on_A = Module(\"stack_B_on_A\", c_list=[\"clear_A\", \"holding_B\"], a_list=[\"arm_empty\", \"B_on_A\"], d_list=[\"holding_B\",\"clear_A\"], group=\"action\")\n",
    "        self.stack_B_on_C = Module(\"stack_B_on_C\", c_list=[\"clear_C\", \"holding_B\"], a_list=[\"arm_empty\", \"B_on_C\"], d_list=[\"holding_B\",\"clear_C\"], group=\"action\")\n",
    "        self.stack_C_on_A = Module(\"stack_C_on_A\", c_list=[\"clear_A\", \"holding_C\"], a_list=[\"arm_empty\", \"C_on_A\"], d_list=[\"holding_C\",\"clear_A\"], group=\"action\")\n",
    "        self.stack_C_on_B = Module(\"stack_C_on_B\", c_list=[\"clear_B\", \"holding_C\"], a_list=[\"arm_empty\", \"C_on_B\"], d_list=[\"holding_C\",\"clear_B\"], group=\"action\")\n",
    "        self.unstack_A_on_B = Module(\"unstack_A_on_B\", c_list=[\"arm_empty\", \n",
    "                                                               \"A_on_B\", \"clear_A\"], a_list=[\"holding_A\",\"clear_B\"], d_list=[\"arm_empty\", \"A_on_B\"], group=\"action\")\n",
    "        self.unstack_A_on_C = Module(\"unstack_A_on_C\", c_list=[\"arm_empty\", \n",
    "                                                               \"A_on_C\", \"clear_A\"], a_list=[\"holding_A\",\"clear_C\"], d_list=[\"arm_empty\", \"A_on_C\"], group=\"action\")\n",
    "        self.unstack_B_on_A = Module(\"unstack_B_on_A\", c_list=[\"arm_empty\", \n",
    "                                                               \"B_on_A\", \"clear_B\"], a_list=[\"holding_B\",\"clear_A\"], d_list=[\"arm_empty\", \"B_on_A\"], group=\"action\")\n",
    "        self.unstack_B_on_C = Module(\"unstack_B_on_C\", c_list=[\"arm_empty\", \n",
    "                                                               \"B_on_C\", \"clear_B\"], a_list=[\"holding_B\",\"clear_C\"], d_list=[\"arm_empty\", \"B_on_C\"], group=\"action\")\n",
    "        self.unstack_C_on_A = Module(\"unstack_C_on_A\", c_list=[\"arm_empty\", \n",
    "                                                               \"C_on_A\", \"clear_C\"], a_list=[\"holding_C\",\"clear_A\"], d_list=[\"arm_empty\", \"C_on_A\"], group=\"action\")\n",
    "        self.unstack_C_on_B = Module(\"unstack_C_on_B\", c_list=[\"arm_empty\", \n",
    "                                                               \"C_on_B\", \"clear_C\"], a_list=[\"holding_C\",\"clear_B\"], d_list=[\"arm_empty\", \"C_on_B\"], group=\"action\")\n",
    "        self.put_down_A = Module(\"put_down_A\", c_list=[\"holding_A\"], a_list=[\"on_table_A\",\"arm_empty\"], d_list=[\"holding_A\"], group=\"action\")\n",
    "        self.put_down_B = Module(\"put_down_B\", c_list=[\"holding_B\"], a_list=[\"on_table_B\",\"arm_empty\"], d_list=[\"holding_B\"], group=\"action\")\n",
    "        self.put_down_C = Module(\"put_down_C\", c_list=[\"holding_C\"], a_list=[\"on_table_C\",\"arm_empty\"], d_list=[\"holding_C\"], group=\"action\")\n",
    "        \n",
    "\n",
    "\n",
    "\n",
    "        #self.recognize_bottle = Module(\"recognize_bottle\", c_list=[\"object_observed\"], a_list=[\"bottle_observed\"], d_list=[\"object_observed\"], group=\"belief\")\n",
    "        #self.recognize_cup = Module(\"recognize_cup\", c_list=[\"object_observed\"], a_list=[\"cup_observed\"], d_list=[\"object_observed\"], group=\"belief\")\n",
    "        \n",
    "        self.modules = [self.pick_up_A,self.pick_up_B,self.pick_up_C,\n",
    "                        self.stack_A_on_B,self.stack_A_on_C,self.stack_B_on_A,self.stack_B_on_C,self.stack_C_on_A,self.stack_C_on_B,\n",
    "                       self.unstack_A_on_B, self.unstack_A_on_C, self.unstack_B_on_A,self.unstack_B_on_C,self.unstack_C_on_A,self.unstack_C_on_B,\n",
    "                       self.put_down_A, self.put_down_B,self.put_down_C]\n",
    "    \n",
    "    def make_dict(self, c_state):\n",
    "        module_dict_action = {}\n",
    "        module_dict_belief = {}\n",
    "        for module in self.modules:\n",
    "            if set(module.c_list).issubset(c_state):\n",
    "                module_dict_action[str(module.name)] = module.level\n",
    "        #print(module_dict_action)\n",
    "\n",
    "        return module_dict_action\n",
    "\n",
    "    \n",
    "    def selection(self, c_state):\n",
    "        action = self.make_dict(c_state)\n",
    "        keys_of_action = list(action.keys())\n",
    "            \n",
    "        return keys_of_action\n",
    "    \n",
    "    \n",
    "    def global_loop(self):\n",
    "        answer = False\n",
    "        #print(self.now_level)\n",
    "        for i in range(len(self.current_state[self.now_level])):\n",
    "            #print(len(self.current_state[self.now_level]))\n",
    "            action = self.selection(self.current_state[self.now_level][i])\n",
    "            #print(action)\n",
    "            if len(action) > 0:\n",
    "                for j in range(len(action)):\n",
    "                    self.current_state[self.now_level + 1].append(copy.deepcopy(self.current_state[self.now_level][i]))\n",
    "                    #print(\"self.current_state[self.now_level + 1]\",self.current_state[self.now_level + 1])\n",
    "                    #print(\"action\",action[j])\n",
    "                    #print(self.current_state)\n",
    "                    for module in self.modules:\n",
    "                        if module.name == action[j]:\n",
    "                            self.did_list[self.now_level+1].append(module.name)\n",
    "                            for state in module.a_list:\n",
    "                                self.current_state[self.now_level + 1][j].add(state)\n",
    "                            for state in module.d_list:\n",
    "                                self.current_state[self.now_level + 1][j].discard(state)\n",
    "                            if module.name == \"stack_B_on_A\":\n",
    "                                print(\"B\",self.current_state[self.now_level + 1][j])\n",
    "                    #print(self.current_state)\n",
    "                    if self.goal_state.issubset(self.current_state[self.now_level +1][j]):\n",
    "                        print(\"solved!\",self.current_state)\n",
    "                        print(\"did_list\",self.did_list)\n",
    "                        answer = True\n",
    "                       \n",
    "        self.now_level += 1\n",
    "        #print(\"did_list\",self.did_list)\n",
    "        #print(self.current_state)\n",
    "        return answer\n",
    "                       "
   ]
  },
  {
   "cell_type": "code",
   "execution_count": 282,
   "metadata": {},
   "outputs": [],
   "source": [
    "def main():\n",
    "    current_state = [[]  for i in range(30)]\n",
    "    current_state[0].append(copy.deepcopy(set([\"clear_A\", \"on_table_A\",\"clear_B\", \"on_table_B\",\"clear_C\", \"on_table_C\",\"arm_empty\"])))\n",
    "    did_list = [[]  for i in range(30)]\n",
    "    strips = STRIPS(current_state, did_list)\n",
    "    for i in range(3):\n",
    "        a = strips.global_loop()\n",
    "        if a == True:\n",
    "            break\n"
   ]
  },
  {
   "cell_type": "code",
   "execution_count": 283,
   "metadata": {},
   "outputs": [
    {
     "name": "stdout",
     "output_type": "stream",
     "text": [
      "B {'on_table_C', 'arm_empty', 'A_on_B', 'B_on_A', 'on_table_B', 'clear_C'}\n",
      "B {'holding_A', 'holding_C', 'C_on_A', 'arm_empty', 'A_on_B', 'B_on_A', 'on_table_B', 'clear_C'}\n",
      "B {'holding_A', 'holding_C', 'C_on_A', 'arm_empty', 'A_on_B', 'B_on_A', 'on_table_B', 'clear_C'}\n",
      "B {'holding_A', 'holding_C', 'C_on_A', 'arm_empty', 'A_on_B', 'B_on_A', 'on_table_B', 'clear_C'}\n"
     ]
    }
   ],
   "source": [
    "main()\n"
   ]
  },
  {
   "cell_type": "code",
   "execution_count": 101,
   "metadata": {},
   "outputs": [],
   "source": [
    "s = [[],[],[]]"
   ]
  },
  {
   "cell_type": "code",
   "execution_count": 109,
   "metadata": {},
   "outputs": [],
   "source": [
    "s[1].append( set([\"clear_A\", \"on_table_A\",\"clear_B\", \"on_table_B\",\"clear_C\", \"on_table_C\",\"arm_empti\"]))"
   ]
  },
  {
   "cell_type": "code",
   "execution_count": 110,
   "metadata": {},
   "outputs": [
    {
     "data": {
      "text/plain": [
       "[[{'arm_empti',\n",
       "   'clear_A',\n",
       "   'clear_B',\n",
       "   'clear_C',\n",
       "   'on_table_A',\n",
       "   'on_table_B',\n",
       "   'on_table_C'},\n",
       "  {'arm_empti',\n",
       "   'clear_A',\n",
       "   'clear_B',\n",
       "   'clear_C',\n",
       "   'on_table_A',\n",
       "   'on_table_B',\n",
       "   'on_table_C'},\n",
       "  {'arm_empti',\n",
       "   'clear_A',\n",
       "   'clear_B',\n",
       "   'clear_C',\n",
       "   'on_table_A',\n",
       "   'on_table_B',\n",
       "   'on_table_C'}],\n",
       " [{'arm_empti',\n",
       "   'clear_A',\n",
       "   'clear_B',\n",
       "   'clear_C',\n",
       "   'on_table_A',\n",
       "   'on_table_B',\n",
       "   'on_table_C'}],\n",
       " []]"
      ]
     },
     "execution_count": 110,
     "metadata": {},
     "output_type": "execute_result"
    }
   ],
   "source": [
    "s"
   ]
  },
  {
   "cell_type": "code",
   "execution_count": 24,
   "metadata": {},
   "outputs": [
    {
     "data": {
      "text/plain": [
       "{'arm_empti',\n",
       " 'clear_A',\n",
       " 'clear_B',\n",
       " 'clear_C',\n",
       " 'on_table_A',\n",
       " 'on_table_B',\n",
       " 'on_table_C'}"
      ]
     },
     "execution_count": 24,
     "metadata": {},
     "output_type": "execute_result"
    }
   ],
   "source": [
    "s[0][2]"
   ]
  },
  {
   "cell_type": "code",
   "execution_count": null,
   "metadata": {},
   "outputs": [],
   "source": []
  }
 ],
 "metadata": {
  "kernelspec": {
   "display_name": "Python 3",
   "language": "python",
   "name": "python3"
  },
  "language_info": {
   "codemirror_mode": {
    "name": "ipython",
    "version": 3
   },
   "file_extension": ".py",
   "mimetype": "text/x-python",
   "name": "python",
   "nbconvert_exporter": "python",
   "pygments_lexer": "ipython3",
   "version": "3.7.3"
  }
 },
 "nbformat": 4,
 "nbformat_minor": 2
}
